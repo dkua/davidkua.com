{
 "metadata": {
  "name": "PyCon 2013",
  "title": "PyCon 2013",
  "date": "2013-03-29 16:00"
 },
 "nbformat": 3,
 "nbformat_minor": 0,
 "worksheets": [
  {
   "cells": [
    {
     "cell_type": "code",
     "collapsed": false,
     "input": [],
     "language": "python",
     "metadata": {},
     "outputs": []
    }
   ],
   "metadata": {}
  }
 ]
}