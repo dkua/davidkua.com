{
 "metadata": {
  "Author": "Me",
  "Category": "Notebook",
  "Date": "2013-3-25",
  "Tags": "first post, hello world!",
  "Title": "First Post!",
  "name": "First Post!",
  "slug": "first-post"
 },
 "nbformat": 3,
 "nbformat_minor": 0,
 "worksheets": [
  {
   "cells": [
    {
     "cell_type": "code",
     "collapsed": false,
     "input": [
      "print \"Hello World!\""
     ],
     "language": "python",
     "metadata": {},
     "outputs": [
      {
       "output_type": "stream",
       "stream": "stdout",
       "text": [
        "Hello World!\n"
       ]
      }
     ],
     "prompt_number": 1
    },
    {
     "cell_type": "markdown",
     "metadata": {},
     "source": [
      "Hey there stranger! Welcome to the inaugural post of my new site. Hey there stranger! Welcome to the inaugural post of my new site. Hey there stranger! Welcome to the inaugural post of my new site. Hey there stranger! Welcome to the inaugural post of my new site. Hey there stranger! Welcome to the inaugural post of my new site. Hey there stranger! Welcome to the inaugural post of my new site. Hey there stranger! Welcome to the inaugural post of my new site. Hey there stranger! Welcome to the inaugural post of my new site. Hey there stranger! Welcome to the inaugural post of my new site. Hey there stranger! Welcome to the inaugural post of my new site. Hey there stranger! Welcome to the inaugural post of my new site. Hey there stranger! Welcome to the inaugural post of my new site. Hey there stranger! Welcome to the inaugural post of my new site. Hey there stranger! Welcome to the inaugural post of my new site. Hey there stranger! Welcome to the inaugural post of my new site. Hey there stranger! Welcome to the inaugural post of my new site. Hey there stranger! Welcome to the inaugural post of my new site. Hey there stranger! Welcome to the inaugural post of my new site. Hey there stranger! Welcome to the inaugural post of my new site. Hey there stranger! Welcome to the inaugural post of my new site. Hey there stranger! Welcome to the inaugural post of my new site. Hey there stranger! Welcome to the inaugural post of my new site. "
     ]
    },
    {
     "cell_type": "markdown",
     "metadata": {},
     "source": [
      "Hey there stranger! Welcome to the inaugural post of my new site. Hey there stranger! Welcome to the inaugural post of my new site. Hey there stranger! Welcome to the inaugural post of my new site. Hey there stranger! Welcome to the inaugural post of my new site. Hey there stranger! Welcome to the inaugural post of my new site. Hey there stranger! Welcome to the inaugural post of my new site. Hey there stranger! Welcome to the inaugural post of my new site. Hey there stranger! Welcome to the inaugural post of my new site. Hey there stranger! Welcome to the inaugural post of my new site. Hey there stranger! Welcome to the inaugural post of my new site. Hey there stranger! Welcome to the inaugural post of my new site. "
     ]
    },
    {
     "cell_type": "code",
     "collapsed": false,
     "input": [
      "# This is some test code!\n",
      "\n",
      "def fizzbuzz(n):\n",
      "    for i in xrange(n + 1):\n",
      "        result = \"\"\n",
      "        if i % 3 == 0:\n",
      "            result += \"fizz\"\n",
      "        if i % 5 == 0:\n",
      "            result += \"buzz\"\n",
      "        if result == \"\":\n",
      "            result = i\n",
      "        print(result)"
     ],
     "language": "python",
     "metadata": {},
     "outputs": [],
     "prompt_number": 2
    },
    {
     "cell_type": "code",
     "collapsed": false,
     "input": [
      "fizzbuzz(100)"
     ],
     "language": "python",
     "metadata": {},
     "outputs": [
      {
       "output_type": "stream",
       "stream": "stdout",
       "text": [
        "fizzbuzz\n",
        "1\n",
        "2\n",
        "fizz\n",
        "4\n",
        "buzz\n",
        "fizz\n",
        "7\n",
        "8\n",
        "fizz\n",
        "buzz\n",
        "11\n",
        "fizz\n",
        "13\n",
        "14\n",
        "fizzbuzz\n",
        "16\n",
        "17\n",
        "fizz\n",
        "19\n",
        "buzz\n",
        "fizz\n",
        "22\n",
        "23\n",
        "fizz\n",
        "buzz\n",
        "26\n",
        "fizz\n",
        "28\n",
        "29\n",
        "fizzbuzz\n",
        "31\n",
        "32\n",
        "fizz\n",
        "34\n",
        "buzz\n",
        "fizz\n",
        "37\n",
        "38\n",
        "fizz\n",
        "buzz\n",
        "41\n",
        "fizz\n",
        "43\n",
        "44\n",
        "fizzbuzz\n",
        "46\n",
        "47\n",
        "fizz\n",
        "49\n",
        "buzz\n",
        "fizz\n",
        "52\n",
        "53\n",
        "fizz\n",
        "buzz\n",
        "56\n",
        "fizz\n",
        "58\n",
        "59\n",
        "fizzbuzz\n",
        "61\n",
        "62\n",
        "fizz\n",
        "64\n",
        "buzz\n",
        "fizz\n",
        "67\n",
        "68\n",
        "fizz\n",
        "buzz\n",
        "71\n",
        "fizz\n",
        "73\n",
        "74\n",
        "fizzbuzz\n",
        "76\n",
        "77\n",
        "fizz\n",
        "79\n",
        "buzz\n",
        "fizz\n",
        "82\n",
        "83\n",
        "fizz\n",
        "buzz\n",
        "86\n",
        "fizz\n",
        "88\n",
        "89\n",
        "fizzbuzz\n",
        "91\n",
        "92\n",
        "fizz\n",
        "94\n",
        "buzz\n",
        "fizz\n",
        "97\n",
        "98\n",
        "fizz\n",
        "buzz\n"
       ]
      }
     ],
     "prompt_number": 3
    },
    {
     "cell_type": "code",
     "collapsed": false,
     "input": [],
     "language": "python",
     "metadata": {},
     "outputs": [],
     "prompt_number": 3
    }
   ],
   "metadata": {}
  }
 ]
}